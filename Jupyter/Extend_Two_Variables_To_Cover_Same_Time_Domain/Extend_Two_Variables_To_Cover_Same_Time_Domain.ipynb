{
 "cells": [
  {
   "cell_type": "markdown",
   "metadata": {},
   "source": [
    "# Extending Many Variables To Cover The Same Time Domain\n",
    "\n",
    "In this tutorial we create two variables over two different but overlapping time domains. \n",
    "We will *grow* both variables to span the same (union) domain, filling the added times with missing data\n",
    "\n",
    "© Software was developed by Charles Dutriaux and CDAT team, and tutorial was written by Charles Doutriaux.\n",
    "\n",
    "# Content\n",
    "\n",
    "- [Create The two Variables](#create)\n",
    "- [The Actual Function](#function)\n",
    "- [Apply](#apply)\n",
    "\n",
    "# Creating the Variables<a id=\"create\"></a>\n",
    "\n",
    "Let's create two distinct variables (monthly time series)\n",
    "\n",
    "variable 1 going from 1989 through 2010\n",
    "variable 2 going from 2000 through 2017\n"
   ]
  },
  {
   "cell_type": "code",
   "execution_count": 1,
   "metadata": {},
   "outputs": [],
   "source": [
    "import cdms2\n",
    "import numpy\n",
    "import MV2\n",
    "import cdtime\n",
    "import cdutil\n",
    "\n",
    "def createTimeAxis(start, end):\n",
    "    \"\"\" Create a monthly time axis going from a start date to another\"\"\"\n",
    "    if isinstance(start, int):\n",
    "        start = cdtime.comptime(start)\n",
    "    if isinstance(end, int):\n",
    "        end = cdtime.comptime(end, 12, 31)\n",
    "    # Figure out how many month are there\n",
    "    units = \"months since {}\".format(start)\n",
    "    n = end.torelative(units).value + 1\n",
    "    # Create time axis\n",
    "    time = cdms2.createAxis(numpy.arange(n))\n",
    "    time.id = \"time\"\n",
    "    time.units = units\n",
    "    time.designateTime()\n",
    "    cdutil.setTimeBoundsMonthly(time)\n",
    "    return time\n",
    "\n",
    "def createData(start, end, shape=()):\n",
    "    \"\"\" Create an array of random monthly data going from start to end, you can also pass shape for additional data\"\"\"\n",
    "    time = createTimeAxis(start, end)\n",
    "    n = len(time)\n",
    "    # Add time at beginning\n",
    "    shape = (n,) + shape\n",
    "    data = MV2.array(numpy.random.randn(*shape))\n",
    "    data.setAxis(0,time)\n",
    "    data.id = \"data\"\n",
    "    return data\n",
    "\n",
    "data1 = createData(1989, 2010)\n",
    "data2 = createData(2000, 2017)"
   ]
  },
  {
   "cell_type": "markdown",
   "metadata": {},
   "source": [
    "# Function Create \"Grown\" Data<a id=\"function\"></a>\n",
    "\n"
   ]
  },
  {
   "cell_type": "code",
   "execution_count": 2,
   "metadata": {},
   "outputs": [],
   "source": [
    "def missingMonths(time, start, end):\n",
    "    \"\"\" given a time axis and a staert and end date, returns how mny months are missing before and after the time axis\"\"\"\n",
    "    # Before the time axis starts\n",
    "    if time[0].cmp(start)<=0:\n",
    "        before = 0\n",
    "    else:\n",
    "        units = \"months since {}\".format(start)\n",
    "        before = time[0].torelative(units).value\n",
    "        \n",
    "    # After the time axis ends\n",
    "    if time[-1].cmp(end)>=0:\n",
    "        end = 0\n",
    "    else:\n",
    "        units = \"months since {}\".format(time[-1])\n",
    "        end = end.torelative(units).value\n",
    "    return int(before), int(end)\n",
    "\n",
    "def grow(data, start, end):\n",
    "    \"\"\" Given an array and a start and end date, grows the array to fill the full time range \"\"\"\n",
    "    order = data.getOrder(ids=True)\n",
    "    data = data(order=('t...'))\n",
    "    tc = data.getTime().asComponentTime()\n",
    "    b, e = missingMonths(tc, start, end)\n",
    "    # Prepare the new data\n",
    "    sh = list(data.shape)\n",
    "    sh[0] = sh[0] + b + e\n",
    "    new = MV2.ones(sh)\n",
    "    new = MV2.masked_greater(new,0.)  # mask everywhere\n",
    "    if e != 0:\n",
    "        new[b:-e] = data[:]\n",
    "    else:\n",
    "        new[b:] = data[:]\n",
    "    new_time = cdms2.createAxis(numpy.arange(sh[0]))\n",
    "    new_time.units= \"months since {}\".format(start)\n",
    "    new_time.id = \"time\"\n",
    "    new_time.designateTime()\n",
    "    cdutil.setAxisTimeBoundsMonthly(new_time)\n",
    "    new.setAxis(0,new_time)\n",
    "    # set the old axes\n",
    "    for i, axis in enumerate(data.getAxisList()[1:]):\n",
    "        new.setAxis(i+1,ax)\n",
    "        \n",
    "    new.id = data.id\n",
    "    return new(order=order)\n",
    "    \n",
    "        \n",
    "def growDatasets(*arrays):\n",
    "    \"\"\" Given N cdms2 transient variables, grow them both to start and end at the same time, filling the rest with missing values\"\"\"\n",
    "    \n",
    "    start = None\n",
    "    end = None\n",
    "    for data in arrays:\n",
    "        # Get time axis (as component time)\n",
    "        tc = data.getTime().asComponentTime()\n",
    "    \n",
    "        # figure out which data start first and end last\n",
    "        if start is None or tc[0].cmp(start) <=0:  # data starts first\n",
    "            start = tc[0]\n",
    "        if end is None or tc[-1].cmp(end) >=0:  # data ends last\n",
    "            end = tc[-1]\n",
    "        \n",
    "    # Figure out how many months are needed\n",
    "    for data in arrays:\n",
    "        yield grow(data, start, end)\n",
    "        \n",
    "    "
   ]
  },
  {
   "cell_type": "markdown",
   "metadata": {},
   "source": [
    "## Use the function<a id=\"apply\"></a>"
   ]
  },
  {
   "cell_type": "code",
   "execution_count": 3,
   "metadata": {},
   "outputs": [
    {
     "name": "stdout",
     "output_type": "stream",
     "text": [
      "(348,) 0.136511822719 -- -- 1.05417667364\n"
     ]
    }
   ],
   "source": [
    "data1, data2 = growDatasets(data1, data2)\n",
    "\n",
    "print data1.shape, data1[0], data1[-1], data2[0], data2[-1]"
   ]
  }
 ],
 "metadata": {
  "kernelspec": {
   "display_name": "Python [conda env:py2]",
   "language": "python",
   "name": "conda-env-py2-py"
  },
  "language_info": {
   "codemirror_mode": {
    "name": "ipython",
    "version": 2
   },
   "file_extension": ".py",
   "mimetype": "text/x-python",
   "name": "python",
   "nbconvert_exporter": "python",
   "pygments_lexer": "ipython2",
   "version": "2.7.15"
  }
 },
 "nbformat": 4,
 "nbformat_minor": 2
}
